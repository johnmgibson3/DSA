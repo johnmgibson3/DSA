{
 "cells": [
  {
   "cell_type": "markdown",
   "id": "d488ffb7",
   "metadata": {},
   "source": [
    "*Selection Sort*\n",
    "- Similar to insertion sort there is a sorted and unsorted portion. Start at index i. index j loops forward finding index with smallest number. Swaps what is at i with number j found. i increments forward 1 goes again\n",
    "- Time: O(n^2)\n",
    "- Space: O(1) - In-Place (constant)"
   ]
  },
  {
   "cell_type": "code",
   "execution_count": null,
   "id": "577242ec",
   "metadata": {},
   "outputs": [],
   "source": [
    "#N = length of arr 9\n",
    "#M = 9 // 2 = 4\n",
    "\"\"\"\n",
    "Merge Sort Algorithm\n",
    "--------------------\n",
    "1. Split Phase:\n",
    "   - Let M = middle index.\n",
    "   - Recursively split the array into two halves at M until each subarray has one element.\n",
    "     Example:\n",
    "       [5, 2, 9, 1, 5, 6]\n",
    "       → [5, 2, 9] [1, 5, 6]\n",
    "       → [5][2, 9][1][5, 6]\n",
    "       → [5][2][9][1][5][6]\n",
    "\n",
    "2. Merge Phase:\n",
    "   - Merge subarrays back together in sorted order.\n",
    "   - Use two pointers (l, r) to compare elements from each half\n",
    "     and build a new sorted array while moving up the recursion tree.\n",
    "\"\"\"\n",
    "\n",
    "def merge_sort(arr):\n",
    "    n = len(arr)\n",
    "\n",
    "    # weeds out 0/1 length. also used when splitting array by calling function itself\n",
    "    if n == 1:\n",
    "        return arr\n",
    "    \n",
    "    m = len(arr) // 2\n",
    "    L = arr[:m]\n",
    "    R = arr[m:]\n",
    "\n",
    "    \n",
    "    L = merge_sort(L)\n",
    "    R = merge_sort(R)\n",
    "    l, r = 0, 0\n",
    "    L_len = len(L)\n",
    "    R_len = len(R)\n",
    "\n",
    "    sorted_arr = [0] * n\n",
    "    i = 0\n",
    "\n",
    "    while l < L_len and r < R_len:\n",
    "        if L[l] < R[r]:\n",
    "            sorted_arr[i] = L[l]\n",
    "            l += 1\n",
    "        else:\n",
    "            sorted_arr[i] = R[r]\n",
    "            r += 1\n",
    "        i += 1\n",
    "\n",
    "    while l < L_len:\n",
    "        sorted_arr[i] = L[l]\n",
    "        l += 1 \n",
    "        i += 1\n",
    "    while r < R_len:\n",
    "        sorted_arr[i] = R[r]\n",
    "        r += 1\n",
    "        i += 1\n",
    "    return sorted_arr\n",
    "merge_sort(A)\n",
    "\n",
    "\n"
   ]
  },
  {
   "cell_type": "markdown",
   "id": "0a96d155",
   "metadata": {},
   "source": [
    "![alt text](image.png)"
   ]
  }
 ],
 "metadata": {
  "kernelspec": {
   "display_name": "venv",
   "language": "python",
   "name": "python3"
  },
  "language_info": {
   "name": "python",
   "version": "3.13.7"
  }
 },
 "nbformat": 4,
 "nbformat_minor": 5
}
