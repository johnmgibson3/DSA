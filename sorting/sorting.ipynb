{
 "cells": [
  {
   "cell_type": "code",
   "execution_count": 40,
   "id": "de4be060",
   "metadata": {},
   "outputs": [
    {
     "data": {
      "text/plain": [
       "'\\nKey:\\ni = index\\nj = \\nM = min value \\n'"
      ]
     },
     "execution_count": 40,
     "metadata": {},
     "output_type": "execute_result"
    }
   ],
   "source": [
    "# With sorting we start by placing i in the second position of an array which is 1 (0,1,2,3,etc.), and use i and i-1 to represent values\n",
    "A = [5, 2, 9, 1, 5, 6]\n",
    "\n",
    "\"\"\"\n",
    "Key:\n",
    "i = index\n",
    "j = \n",
    "M = min value \n",
    "\"\"\""
   ]
  },
  {
   "cell_type": "markdown",
   "id": "2855e77e",
   "metadata": {},
   "source": [
    "*Bubble Sort*\n",
    "- bubbling effect where elements fall into positions. Loops through array over and over until sorted.\n",
    "- Time: O(n^2)\n",
    "- Space: O(1) - In-Place (constant)"
   ]
  },
  {
   "cell_type": "code",
   "execution_count": 41,
   "id": "e90b6024",
   "metadata": {},
   "outputs": [],
   "source": [
    "# bubble sort in ascending order. For descending, flip the comparison sign\n",
    "def bubble_sort(arr):\n",
    "    n = len(arr)\n",
    "    flag = True\n",
    "    while flag:\n",
    "        flag = False\n",
    "        for i in range(1, n):\n",
    "            if arr[i-1] > arr[i]:\n",
    "                flag =True\n",
    "                arr[i-1], arr[i] = arr[i], arr[i-1]\n",
    "    #return arr"
   ]
  },
  {
   "cell_type": "code",
   "execution_count": 42,
   "id": "cadd2d68",
   "metadata": {},
   "outputs": [
    {
     "data": {
      "text/plain": [
       "[1, 2, 5, 5, 6, 9]"
      ]
     },
     "execution_count": 42,
     "metadata": {},
     "output_type": "execute_result"
    }
   ],
   "source": [
    "#print(bubble_sort(A))\n",
    "bubble_sort(A)\n",
    "A\n"
   ]
  },
  {
   "cell_type": "markdown",
   "id": "880e0fa5",
   "metadata": {},
   "source": [
    "*Insertion Sort*\n",
    "- You have a sorted region (starting at arr[0]) and are moving number from unsorted region over to sorted region\n",
    "- Have i and j. i increments forward, j takes unsorted number and moves it backwards into correct sorted position in sorted region. (j loops backwards in a way, i only goes forwards)\n",
    "- taking index i and set j = i and decrement j backwards through array. \n",
    "- Time: O(n^2)\n",
    "- Space: O(1) - In-Place (constant)"
   ]
  },
  {
   "cell_type": "code",
   "execution_count": 43,
   "id": "9622c851",
   "metadata": {},
   "outputs": [],
   "source": [
    "def insertion_sort(arr):\n",
    "    n = len(arr)\n",
    "    for i in range(1, n):\n",
    "        #(i,0,-1) mean start at i decrement by -1. since backwards is exclusive, saying 0 stops you on 1\n",
    "        for j in range(i, 0, -1):\n",
    "            if arr[j-1] > arr[j]:\n",
    "                arr[j-1], arr[j] = arr[j], arr[j-1]\n",
    "            else:\n",
    "                break"
   ]
  },
  {
   "cell_type": "code",
   "execution_count": 44,
   "id": "b93ae915",
   "metadata": {},
   "outputs": [
    {
     "data": {
      "text/plain": [
       "[1, 2, 5, 5, 6, 9]"
      ]
     },
     "execution_count": 44,
     "metadata": {},
     "output_type": "execute_result"
    }
   ],
   "source": [
    "insertion_sort(A)\n",
    "A"
   ]
  },
  {
   "cell_type": "markdown",
   "id": "3ea5a1a8",
   "metadata": {},
   "source": [
    "*Selection Sort*\n",
    "- Similar to insertion sort there is a sorted and unsorted portion. Start at index i. index j loops forward finding index with smallest number. Swaps what is at i with number j found. i increments forward 1 goes again\n",
    "- Time: O(n^2)\n",
    "- Space: O(1) - In-Place (constant)"
   ]
  },
  {
   "cell_type": "code",
   "execution_count": 45,
   "id": "9795281d",
   "metadata": {},
   "outputs": [
    {
     "data": {
      "text/plain": [
       "[1, 2, 5, 5, 6, 9]"
      ]
     },
     "execution_count": 45,
     "metadata": {},
     "output_type": "execute_result"
    }
   ],
   "source": [
    "# Selection Sort\n",
    "\n",
    "def selection_sort(arr):\n",
    "    n = len(arr)\n",
    "    for i in range(n):\n",
    "        min_index = i\n",
    "        for j in range(i+1, n):\n",
    "            if arr[j] < arr[min_index]:\n",
    "                min_index = j\n",
    "        arr[i], arr[min_index] = arr[min_index], arr[i]\n",
    "\n",
    "selection_sort(A)\n",
    "A"
   ]
  },
  {
   "cell_type": "markdown",
   "id": "96b4f12a",
   "metadata": {},
   "source": [
    "*Merge Sort* \n",
    "recursive tree (divide and conquer)\n",
    "- Has a height of log2 N (num of rows)\n",
    "- Time: O(n log n)\n",
    "- Space: O(n)"
   ]
  },
  {
   "cell_type": "code",
   "execution_count": 46,
   "id": "fe112100",
   "metadata": {},
   "outputs": [
    {
     "data": {
      "text/plain": [
       "[1, 2, 5, 5, 6, 9]"
      ]
     },
     "execution_count": 46,
     "metadata": {},
     "output_type": "execute_result"
    }
   ],
   "source": [
    "#N = length of arr 9\n",
    "#M = 9 // 2 = 4\n",
    "\"\"\"\n",
    "Merge Sort Algorithm\n",
    "--------------------\n",
    "1. Split Phase:\n",
    "   - Let M = middle index.\n",
    "   - Recursively split the array into two halves at M until each subarray has one element.\n",
    "     Example:\n",
    "       [5, 2, 9, 1, 5, 6]\n",
    "       → [5, 2, 9] [1, 5, 6]\n",
    "       → [5][2, 9][1][5, 6]\n",
    "       → [5][2][9][1][5][6]\n",
    "\n",
    "2. Merge Phase:\n",
    "   - Merge subarrays back together in sorted order.\n",
    "   - Use two pointers (l, r) to compare elements from each half\n",
    "     and build a new sorted array while moving up the recursion tree.\n",
    "\"\"\"\n",
    "\n",
    "def merge_sort(arr):\n",
    "    n = len(arr)\n",
    "\n",
    "    # weeds out 0/1 length\n",
    "    if n == 1:\n",
    "        return arr\n",
    "    \n",
    "    m = len(arr) // 2\n",
    "    L = arr[:m]\n",
    "    R = arr[m:]\n",
    "\n",
    "    \n",
    "    L = merge_sort(L)\n",
    "    R = merge_sort(R)\n",
    "    l, r = 0, 0\n",
    "    L_len = len(L)\n",
    "    R_len = len(R)\n",
    "\n",
    "    sorted_arr = [0] * n\n",
    "    i = 0\n",
    "\n",
    "    while l < L_len and r < R_len:\n",
    "        if L[l] < R[r]:\n",
    "            sorted_arr[i] = L[l]\n",
    "            l += 1\n",
    "        else:\n",
    "            sorted_arr[i] = R[r]\n",
    "            r += 1\n",
    "        i += 1\n",
    "\n",
    "    while l < L_len:\n",
    "        sorted_arr[i] = L[l]\n",
    "        l += 1 \n",
    "        i += 1\n",
    "    while r < R_len:\n",
    "        sorted_arr[i] = R[r]\n",
    "        r += 1\n",
    "        i += 1\n",
    "    return sorted_arr\n",
    "merge_sort(A)\n",
    "\n",
    "\n",
    "\n",
    "\n",
    "\n",
    "\n"
   ]
  },
  {
   "cell_type": "markdown",
   "id": "0e106b47",
   "metadata": {},
   "source": [
    "![alt text](image.png)"
   ]
  }
 ],
 "metadata": {
  "kernelspec": {
   "display_name": "venv",
   "language": "python",
   "name": "python3"
  },
  "language_info": {
   "codemirror_mode": {
    "name": "ipython",
    "version": 3
   },
   "file_extension": ".py",
   "mimetype": "text/x-python",
   "name": "python",
   "nbconvert_exporter": "python",
   "pygments_lexer": "ipython3",
   "version": "3.13.7"
  }
 },
 "nbformat": 4,
 "nbformat_minor": 5
}
