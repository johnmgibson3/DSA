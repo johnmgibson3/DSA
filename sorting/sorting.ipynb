{
 "cells": [
  {
   "cell_type": "code",
   "execution_count": null,
   "id": "de4be060",
   "metadata": {},
   "outputs": [],
   "source": [
    "A = [5, 2, 9, 1, 5, 6]"
   ]
  },
  {
   "cell_type": "markdown",
   "id": "2855e77e",
   "metadata": {},
   "source": [
    "*Bubble Sort*\n",
    "- Time: O(n^2)\n",
    "- Space: O(1) - In-Place"
   ]
  },
  {
   "cell_type": "code",
   "execution_count": null,
   "id": "e90b6024",
   "metadata": {},
   "outputs": [],
   "source": [
    "def"
   ]
  }
 ],
 "metadata": {
  "kernelspec": {
   "display_name": "venv",
   "language": "python",
   "name": "python3"
  },
  "language_info": {
   "codemirror_mode": {
    "name": "ipython",
    "version": 3
   },
   "file_extension": ".py",
   "mimetype": "text/x-python",
   "name": "python",
   "nbconvert_exporter": "python",
   "pygments_lexer": "ipython3",
   "version": "3.13.7"
  }
 },
 "nbformat": 4,
 "nbformat_minor": 5
}
