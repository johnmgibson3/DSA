{
 "cells": [
  {
   "cell_type": "markdown",
   "id": "ef15d07a",
   "metadata": {},
   "source": [
    "Finding the first True in a sorted lift of boolean values"
   ]
  },
  {
   "cell_type": "code",
   "execution_count": 2,
   "id": "265b22dc",
   "metadata": {},
   "outputs": [],
   "source": [
    "arr = [False, False, False, False, True, True, True]"
   ]
  },
  {
   "cell_type": "code",
   "execution_count": null,
   "id": "5bf06a5e",
   "metadata": {},
   "outputs": [
    {
     "data": {
      "text/plain": [
       "4"
      ]
     },
     "execution_count": 3,
     "metadata": {},
     "output_type": "execute_result"
    }
   ],
   "source": [
    "# solution\n",
    "def find_boundary(arr: list[bool]) -> int:\n",
    "    left, right = 0, len(arr) - 1\n",
    "    find_boundary = -1\n",
    "    \n",
    "    while left <= right:\n",
    "\n",
    "        mid = (left + right) // 2\n",
    "\n",
    "        # if arr[mid] mean that if its the bool True it returns true else it was a false\n",
    "        if arr[mid]:\n",
    "            # It's true which is good, but we still need keep looking left in-case this is not the boundary between True False\n",
    "            right = mid -1\n",
    "            find_boundary = mid\n",
    "        else:\n",
    "            left = mid + 1\n",
    "\n",
    "    return find_boundary\n",
    "\n",
    "find_boundary(arr)"
   ]
  }
 ],
 "metadata": {
  "kernelspec": {
   "display_name": "venv",
   "language": "python",
   "name": "python3"
  },
  "language_info": {
   "codemirror_mode": {
    "name": "ipython",
    "version": 3
   },
   "file_extension": ".py",
   "mimetype": "text/x-python",
   "name": "python",
   "nbconvert_exporter": "python",
   "pygments_lexer": "ipython3",
   "version": "3.13.7"
  }
 },
 "nbformat": 4,
 "nbformat_minor": 5
}
